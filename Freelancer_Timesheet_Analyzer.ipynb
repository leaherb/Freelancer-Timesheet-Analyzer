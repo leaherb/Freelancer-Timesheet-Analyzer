{
 "cells": [
  {
   "cell_type": "markdown",
   "metadata": {},
   "source": [
    "# Freelancer Timesheet Analyzer\n",
    "Status: Version 2 not yet complete: reporting functions need to be re-written after moving from nested-lists to pandas dataframe.\n",
    "\n",
    "## Version 2\n",
    "1. Only Excel spreadsheets (.xlsx) formats are accepted.\n",
    "1. Data is loaded into dataframes.\n",
    "2. These columns are required:\n",
    " * Project (string) (such as Customer name or school class name)\n",
    " * Date (date)\n",
    " * Hours (float) \n",
    "3. These columns are optional:\n",
    " * Billable (Null, or any value)\n",
    "3. All other columns loaded (available for customizations) but ignored.\n",
    "3. Filters include:\n",
    " * Project \n",
    " * Date range\n",
    " * Billable (if exists)\n",
    "4. Output includes:\n",
    " * Print of total hours (decimal format)\n",
    " \n",
    "## Version 1\n",
    "1. Only CSV (.csv) are accepted.\n",
    "2. Data is loaded into nested lists.\n",
    "\n",
    " "
   ]
  },
  {
   "cell_type": "code",
   "execution_count": 33,
   "metadata": {},
   "outputs": [],
   "source": [
    "import pandas as pd\n",
    "\n",
    "from __future__ import division\n",
    "\n",
    "from tkinter import filedialog\n",
    "import csv\n",
    "from pprint import pprint\n",
    "import datetime"
   ]
  },
  {
   "cell_type": "markdown",
   "metadata": {},
   "source": [
    "#### Load Data"
   ]
  },
  {
   "cell_type": "code",
   "execution_count": 34,
   "metadata": {},
   "outputs": [],
   "source": [
    "# Prompt for datafile \n",
    "#datafile = filedialog.askopenfilename(\\\n",
    "#    title='Select Timesheet CSV', \\\n",
    "#    filetypes=[(\"CSV\",\"*.csv\"),(\"All files\",\"*.*\")])\n",
    " \n",
    "# hardcoded for testing TODO: go back to prompting for file\n",
    "datafile = ('data/example.xlsx')\n",
    "\n",
    "# load data\n",
    "df = pd.read_excel(datafile) \n",
    "\n",
    "# TODO: add requirements validation"
   ]
  },
  {
   "cell_type": "markdown",
   "metadata": {},
   "source": [
    "#### Clean Data"
   ]
  },
  {
   "cell_type": "code",
   "execution_count": 35,
   "metadata": {},
   "outputs": [],
   "source": [
    "# Convert Billable: any value == 1; Null == 0\n",
    "df['Billable'] = (df['Billable'].notnull()).astype('int')"
   ]
  },
  {
   "cell_type": "code",
   "execution_count": 36,
   "metadata": {},
   "outputs": [
    {
     "name": "stdout",
     "output_type": "stream",
     "text": [
      "<class 'pandas.core.frame.DataFrame'>\n",
      "RangeIndex: 26 entries, 0 to 25\n",
      "Data columns (total 10 columns):\n",
      "Date        26 non-null datetime64[ns]\n",
      "Project     26 non-null object\n",
      "Category    26 non-null object\n",
      "Billable    26 non-null int64\n",
      "Included    0 non-null float64\n",
      "Details     26 non-null object\n",
      "Start       23 non-null object\n",
      "Stop        23 non-null object\n",
      "Time        26 non-null object\n",
      "Hours       26 non-null float64\n",
      "dtypes: datetime64[ns](1), float64(2), int64(1), object(6)\n",
      "memory usage: 2.1+ KB\n"
     ]
    }
   ],
   "source": [
    "df.info()"
   ]
  },
  {
   "cell_type": "code",
   "execution_count": 37,
   "metadata": {},
   "outputs": [
    {
     "data": {
      "text/html": [
       "<div>\n",
       "<style scoped>\n",
       "    .dataframe tbody tr th:only-of-type {\n",
       "        vertical-align: middle;\n",
       "    }\n",
       "\n",
       "    .dataframe tbody tr th {\n",
       "        vertical-align: top;\n",
       "    }\n",
       "\n",
       "    .dataframe thead th {\n",
       "        text-align: right;\n",
       "    }\n",
       "</style>\n",
       "<table border=\"1\" class=\"dataframe\">\n",
       "  <thead>\n",
       "    <tr style=\"text-align: right;\">\n",
       "      <th></th>\n",
       "      <th>Date</th>\n",
       "      <th>Project</th>\n",
       "      <th>Category</th>\n",
       "      <th>Billable</th>\n",
       "      <th>Included</th>\n",
       "      <th>Details</th>\n",
       "      <th>Start</th>\n",
       "      <th>Stop</th>\n",
       "      <th>Time</th>\n",
       "      <th>Hours</th>\n",
       "    </tr>\n",
       "  </thead>\n",
       "  <tbody>\n",
       "    <tr>\n",
       "      <th>0</th>\n",
       "      <td>2018-01-01</td>\n",
       "      <td>Customer 1</td>\n",
       "      <td>Document</td>\n",
       "      <td>1</td>\n",
       "      <td>NaN</td>\n",
       "      <td>Document site architecture</td>\n",
       "      <td>08:40:00</td>\n",
       "      <td>09:25:00</td>\n",
       "      <td>00:45:00</td>\n",
       "      <td>0.750000</td>\n",
       "    </tr>\n",
       "    <tr>\n",
       "      <th>1</th>\n",
       "      <td>2018-01-02</td>\n",
       "      <td>Customer 1</td>\n",
       "      <td>Develop</td>\n",
       "      <td>1</td>\n",
       "      <td>NaN</td>\n",
       "      <td>Landing page changes</td>\n",
       "      <td>07:30:00</td>\n",
       "      <td>07:43:00</td>\n",
       "      <td>00:13:00</td>\n",
       "      <td>0.216667</td>\n",
       "    </tr>\n",
       "    <tr>\n",
       "      <th>2</th>\n",
       "      <td>2018-01-02</td>\n",
       "      <td>Customer 1</td>\n",
       "      <td>Document</td>\n",
       "      <td>1</td>\n",
       "      <td>NaN</td>\n",
       "      <td>Document site architecture</td>\n",
       "      <td>07:43:00</td>\n",
       "      <td>08:30:00</td>\n",
       "      <td>00:47:00</td>\n",
       "      <td>0.783333</td>\n",
       "    </tr>\n",
       "    <tr>\n",
       "      <th>3</th>\n",
       "      <td>2018-01-03</td>\n",
       "      <td>Customer 1</td>\n",
       "      <td>Develop</td>\n",
       "      <td>1</td>\n",
       "      <td>NaN</td>\n",
       "      <td>Landing page changes</td>\n",
       "      <td>08:30:00</td>\n",
       "      <td>09:50:00</td>\n",
       "      <td>01:20:00</td>\n",
       "      <td>1.333333</td>\n",
       "    </tr>\n",
       "    <tr>\n",
       "      <th>4</th>\n",
       "      <td>2018-01-04</td>\n",
       "      <td>Customer 1</td>\n",
       "      <td>Develop</td>\n",
       "      <td>1</td>\n",
       "      <td>NaN</td>\n",
       "      <td>Draft documentation</td>\n",
       "      <td>11:50:00</td>\n",
       "      <td>14:15:00</td>\n",
       "      <td>02:25:00</td>\n",
       "      <td>2.416667</td>\n",
       "    </tr>\n",
       "  </tbody>\n",
       "</table>\n",
       "</div>"
      ],
      "text/plain": [
       "        Date     Project  Category  Billable  Included  \\\n",
       "0 2018-01-01  Customer 1  Document         1       NaN   \n",
       "1 2018-01-02  Customer 1   Develop         1       NaN   \n",
       "2 2018-01-02  Customer 1  Document         1       NaN   \n",
       "3 2018-01-03  Customer 1   Develop         1       NaN   \n",
       "4 2018-01-04  Customer 1   Develop         1       NaN   \n",
       "\n",
       "                      Details     Start      Stop      Time     Hours  \n",
       "0  Document site architecture  08:40:00  09:25:00  00:45:00  0.750000  \n",
       "1        Landing page changes  07:30:00  07:43:00  00:13:00  0.216667  \n",
       "2  Document site architecture  07:43:00  08:30:00  00:47:00  0.783333  \n",
       "3        Landing page changes  08:30:00  09:50:00  01:20:00  1.333333  \n",
       "4         Draft documentation  11:50:00  14:15:00  02:25:00  2.416667  "
      ]
     },
     "execution_count": 37,
     "metadata": {},
     "output_type": "execute_result"
    }
   ],
   "source": [
    "df.head()"
   ]
  },
  {
   "cell_type": "code",
   "execution_count": 38,
   "metadata": {},
   "outputs": [],
   "source": [
    "def prompt_filters():\n",
    "    # Print report, prompting for filters. TODO: improve\n",
    "\n",
    "    project = input('Project: ') or None\n",
    "    start_date = input('Start Date: ') or '01/01/1000'\n",
    "    end_date = input('Start Date: ') or '12/31/9999'\n",
    "    rate = input('Hourly Rate: ') or 60\n",
    "\n",
    "    return (project, start_date, end_date, float(rate))\n",
    "        "
   ]
  },
  {
   "cell_type": "code",
   "execution_count": 39,
   "metadata": {},
   "outputs": [],
   "source": [
    "def filter_df(this_df, project=None, start_date=None, end_date=None, rate=None):\n",
    "    '''\n",
    "    Return dataframe of filtered date, with Billable NonBillable Hours separated.\n",
    "    \n",
    "    Input:  string (project name)\n",
    "            string (date range start)\n",
    "            string (date range end)\n",
    "    Output: None\n",
    "    Return: dataframe\n",
    "    '''\n",
    "    ## Build query\n",
    "    # if no project specified, then set Project != None to return all \n",
    "    # TODO consider logic when there is no project name intentionally\n",
    "    if not project:\n",
    "        proj_equal = '!=' \n",
    "    else:\n",
    "        proj_equal = '=='\n",
    "        \n",
    "    column =    ['Project',  'Date',     'Date']\n",
    "    equal =     [proj_equal, '>=',       '<']\n",
    "    condition = [project,    start_date, end_date]\n",
    "    \n",
    "    query = ' & '.join(f'{i} {j} {repr(k)}' for i, j, k in zip(column, equal, condition))\n",
    "    print(query)\n",
    "       \n",
    "    return this_df.query(query)"
   ]
  },
  {
   "cell_type": "code",
   "execution_count": 40,
   "metadata": {},
   "outputs": [
    {
     "name": "stdout",
     "output_type": "stream",
     "text": [
      "Project: \n",
      "Start Date: \n",
      "Start Date: \n",
      "Hourly Rate: \n",
      "\n",
      "Project: None\n",
      "Start Date: 01/01/1000\n",
      "End Date: 12/31/9999\n",
      "Rate: 60.0\n"
     ]
    }
   ],
   "source": [
    "project, start_date, end_date, rate = prompt_filters()\n",
    "    \n",
    "print('\\nProject: {}\\nStart Date: {}\\nEnd Date: {}\\nRate: {}'\\\n",
    "      .format(project, start_date, end_date, rate))"
   ]
  },
  {
   "cell_type": "code",
   "execution_count": 41,
   "metadata": {},
   "outputs": [
    {
     "name": "stdout",
     "output_type": "stream",
     "text": [
      "Project != None & Date >= '2018-01-04' & Date < '2018-01-10'\n"
     ]
    }
   ],
   "source": [
    "billing_df = filter_df(df, None, \"2018-01-04\", \"2018-01-10\" )"
   ]
  },
  {
   "cell_type": "code",
   "execution_count": 42,
   "metadata": {},
   "outputs": [
    {
     "data": {
      "text/html": [
       "<div>\n",
       "<style scoped>\n",
       "    .dataframe tbody tr th:only-of-type {\n",
       "        vertical-align: middle;\n",
       "    }\n",
       "\n",
       "    .dataframe tbody tr th {\n",
       "        vertical-align: top;\n",
       "    }\n",
       "\n",
       "    .dataframe thead th {\n",
       "        text-align: right;\n",
       "    }\n",
       "</style>\n",
       "<table border=\"1\" class=\"dataframe\">\n",
       "  <thead>\n",
       "    <tr style=\"text-align: right;\">\n",
       "      <th></th>\n",
       "      <th>Date</th>\n",
       "      <th>Project</th>\n",
       "      <th>Category</th>\n",
       "      <th>Billable</th>\n",
       "      <th>Included</th>\n",
       "      <th>Details</th>\n",
       "      <th>Start</th>\n",
       "      <th>Stop</th>\n",
       "      <th>Time</th>\n",
       "      <th>Hours</th>\n",
       "    </tr>\n",
       "  </thead>\n",
       "  <tbody>\n",
       "    <tr>\n",
       "      <th>4</th>\n",
       "      <td>2018-01-04</td>\n",
       "      <td>Customer 1</td>\n",
       "      <td>Develop</td>\n",
       "      <td>1</td>\n",
       "      <td>NaN</td>\n",
       "      <td>Draft documentation</td>\n",
       "      <td>11:50:00</td>\n",
       "      <td>14:15:00</td>\n",
       "      <td>02:25:00</td>\n",
       "      <td>2.416667</td>\n",
       "    </tr>\n",
       "    <tr>\n",
       "      <th>5</th>\n",
       "      <td>2018-01-05</td>\n",
       "      <td>Customer 1</td>\n",
       "      <td>Proj Mgmt</td>\n",
       "      <td>0</td>\n",
       "      <td>NaN</td>\n",
       "      <td>Prepare for meeting</td>\n",
       "      <td>NaN</td>\n",
       "      <td>NaN</td>\n",
       "      <td>00:30:00</td>\n",
       "      <td>0.500000</td>\n",
       "    </tr>\n",
       "    <tr>\n",
       "      <th>6</th>\n",
       "      <td>2018-01-08</td>\n",
       "      <td>Customer 1</td>\n",
       "      <td>Document</td>\n",
       "      <td>1</td>\n",
       "      <td>NaN</td>\n",
       "      <td>Infrastructure doc and deliver</td>\n",
       "      <td>NaN</td>\n",
       "      <td>NaN</td>\n",
       "      <td>02:00:00</td>\n",
       "      <td>2.000000</td>\n",
       "    </tr>\n",
       "    <tr>\n",
       "      <th>7</th>\n",
       "      <td>2018-01-09</td>\n",
       "      <td>Customer 2</td>\n",
       "      <td>Develop</td>\n",
       "      <td>1</td>\n",
       "      <td>NaN</td>\n",
       "      <td>portfolio</td>\n",
       "      <td>01:15:00</td>\n",
       "      <td>03:30:00</td>\n",
       "      <td>02:15:00</td>\n",
       "      <td>2.250000</td>\n",
       "    </tr>\n",
       "    <tr>\n",
       "      <th>8</th>\n",
       "      <td>2018-01-09</td>\n",
       "      <td>Customer 2</td>\n",
       "      <td>Develop</td>\n",
       "      <td>1</td>\n",
       "      <td>NaN</td>\n",
       "      <td>portfolio</td>\n",
       "      <td>06:20:00</td>\n",
       "      <td>06:50:00</td>\n",
       "      <td>00:30:00</td>\n",
       "      <td>0.500000</td>\n",
       "    </tr>\n",
       "  </tbody>\n",
       "</table>\n",
       "</div>"
      ],
      "text/plain": [
       "        Date     Project   Category  Billable  Included  \\\n",
       "4 2018-01-04  Customer 1    Develop         1       NaN   \n",
       "5 2018-01-05  Customer 1  Proj Mgmt         0       NaN   \n",
       "6 2018-01-08  Customer 1   Document         1       NaN   \n",
       "7 2018-01-09  Customer 2    Develop         1       NaN   \n",
       "8 2018-01-09  Customer 2    Develop         1       NaN   \n",
       "\n",
       "                          Details     Start      Stop      Time     Hours  \n",
       "4             Draft documentation  11:50:00  14:15:00  02:25:00  2.416667  \n",
       "5             Prepare for meeting       NaN       NaN  00:30:00  0.500000  \n",
       "6  Infrastructure doc and deliver       NaN       NaN  02:00:00  2.000000  \n",
       "7                       portfolio  01:15:00  03:30:00  02:15:00  2.250000  \n",
       "8                       portfolio  06:20:00  06:50:00  00:30:00  0.500000  "
      ]
     },
     "execution_count": 42,
     "metadata": {},
     "output_type": "execute_result"
    }
   ],
   "source": [
    "billing_df"
   ]
  },
  {
   "cell_type": "code",
   "execution_count": 51,
   "metadata": {},
   "outputs": [
    {
     "name": "stdout",
     "output_type": "stream",
     "text": [
      "<class 'pandas.core.frame.DataFrame'>\n",
      "Int64Index: 5 entries, 4 to 8\n",
      "Data columns (total 10 columns):\n",
      "Date        5 non-null datetime64[ns]\n",
      "Project     5 non-null object\n",
      "Category    5 non-null object\n",
      "Billable    5 non-null int64\n",
      "Included    0 non-null float64\n",
      "Details     5 non-null object\n",
      "Start       3 non-null object\n",
      "Stop        3 non-null object\n",
      "Time        5 non-null object\n",
      "Hours       5 non-null float64\n",
      "dtypes: datetime64[ns](1), float64(2), int64(1), object(6)\n",
      "memory usage: 440.0+ bytes\n"
     ]
    }
   ],
   "source": [
    "billing_df.info()"
   ]
  },
  {
   "cell_type": "code",
   "execution_count": 57,
   "metadata": {},
   "outputs": [
    {
     "data": {
      "text/html": [
       "<div>\n",
       "<style scoped>\n",
       "    .dataframe tbody tr th:only-of-type {\n",
       "        vertical-align: middle;\n",
       "    }\n",
       "\n",
       "    .dataframe tbody tr th {\n",
       "        vertical-align: top;\n",
       "    }\n",
       "\n",
       "    .dataframe thead th {\n",
       "        text-align: right;\n",
       "    }\n",
       "</style>\n",
       "<table border=\"1\" class=\"dataframe\">\n",
       "  <thead>\n",
       "    <tr style=\"text-align: right;\">\n",
       "      <th></th>\n",
       "      <th>Date</th>\n",
       "      <th>Project</th>\n",
       "      <th>Category</th>\n",
       "      <th>Billable</th>\n",
       "      <th>Included</th>\n",
       "      <th>Details</th>\n",
       "      <th>Start</th>\n",
       "      <th>Stop</th>\n",
       "      <th>Time</th>\n",
       "      <th>Hours</th>\n",
       "    </tr>\n",
       "  </thead>\n",
       "  <tbody>\n",
       "    <tr>\n",
       "      <th>4</th>\n",
       "      <td>2018-01-04</td>\n",
       "      <td>Customer 1</td>\n",
       "      <td>Develop</td>\n",
       "      <td>1</td>\n",
       "      <td>NaN</td>\n",
       "      <td>Draft documentation</td>\n",
       "      <td>11:50:00</td>\n",
       "      <td>14:15:00</td>\n",
       "      <td>02:25:00</td>\n",
       "      <td>2.416667</td>\n",
       "    </tr>\n",
       "    <tr>\n",
       "      <th>6</th>\n",
       "      <td>2018-01-08</td>\n",
       "      <td>Customer 1</td>\n",
       "      <td>Document</td>\n",
       "      <td>1</td>\n",
       "      <td>NaN</td>\n",
       "      <td>Infrastructure doc and deliver</td>\n",
       "      <td>NaN</td>\n",
       "      <td>NaN</td>\n",
       "      <td>02:00:00</td>\n",
       "      <td>2.000000</td>\n",
       "    </tr>\n",
       "    <tr>\n",
       "      <th>7</th>\n",
       "      <td>2018-01-09</td>\n",
       "      <td>Customer 2</td>\n",
       "      <td>Develop</td>\n",
       "      <td>1</td>\n",
       "      <td>NaN</td>\n",
       "      <td>portfolio</td>\n",
       "      <td>01:15:00</td>\n",
       "      <td>03:30:00</td>\n",
       "      <td>02:15:00</td>\n",
       "      <td>2.250000</td>\n",
       "    </tr>\n",
       "    <tr>\n",
       "      <th>8</th>\n",
       "      <td>2018-01-09</td>\n",
       "      <td>Customer 2</td>\n",
       "      <td>Develop</td>\n",
       "      <td>1</td>\n",
       "      <td>NaN</td>\n",
       "      <td>portfolio</td>\n",
       "      <td>06:20:00</td>\n",
       "      <td>06:50:00</td>\n",
       "      <td>00:30:00</td>\n",
       "      <td>0.500000</td>\n",
       "    </tr>\n",
       "  </tbody>\n",
       "</table>\n",
       "</div>"
      ],
      "text/plain": [
       "        Date     Project  Category  Billable  Included  \\\n",
       "4 2018-01-04  Customer 1   Develop         1       NaN   \n",
       "6 2018-01-08  Customer 1  Document         1       NaN   \n",
       "7 2018-01-09  Customer 2   Develop         1       NaN   \n",
       "8 2018-01-09  Customer 2   Develop         1       NaN   \n",
       "\n",
       "                          Details     Start      Stop      Time     Hours  \n",
       "4             Draft documentation  11:50:00  14:15:00  02:25:00  2.416667  \n",
       "6  Infrastructure doc and deliver       NaN       NaN  02:00:00  2.000000  \n",
       "7                       portfolio  01:15:00  03:30:00  02:15:00  2.250000  \n",
       "8                       portfolio  06:20:00  06:50:00  00:30:00  0.500000  "
      ]
     },
     "execution_count": 57,
     "metadata": {},
     "output_type": "execute_result"
    }
   ],
   "source": [
    "billing_df[billing_df['Billable'] == 1]"
   ]
  },
  {
   "cell_type": "code",
   "execution_count": 65,
   "metadata": {},
   "outputs": [
    {
     "name": "stdout",
     "output_type": "stream",
     "text": [
      "Total Hours: 7.666667\n",
      "Non-Billable Hours: 0.5000\n",
      "Billable Hours: 7.1667\n",
      "Hourly Rate: $60.00\n",
      "Billable Amount: $430.00\n"
     ]
    }
   ],
   "source": [
    "print('Total Hours: {:4f}'.format(billing_df['Hours'].sum()))\n",
    "print('Non-Billable Hours: {:.4f}'.format( \\\n",
    "        billing_df[billing_df['Billable'] == 0]['Hours'].sum()))\n",
    "print('Billable Hours: {:.4f}'.format( \\\n",
    "        billing_df[billing_df['Billable'] == 1]['Hours'].sum()))\n",
    "print('Hourly Rate: ${:.2f}'.format(rate))\n",
    "print('Billable Amount: ${:.2f}'.format( \\\n",
    "        billing_df[billing_df['Billable'] == 1]['Hours'].sum() * rate))"
   ]
  }
 ],
 "metadata": {
  "kernelspec": {
   "display_name": "Python [conda env:py3]",
   "language": "python",
   "name": "conda-env-py3-py"
  },
  "language_info": {
   "codemirror_mode": {
    "name": "ipython",
    "version": 3
   },
   "file_extension": ".py",
   "mimetype": "text/x-python",
   "name": "python",
   "nbconvert_exporter": "python",
   "pygments_lexer": "ipython3",
   "version": "3.6.7"
  }
 },
 "nbformat": 4,
 "nbformat_minor": 2
}
